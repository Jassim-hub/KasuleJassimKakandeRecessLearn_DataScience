{
 "cells": [
  {
   "cell_type": "code",
   "execution_count": null,
   "id": "0e433c3b",
   "metadata": {},
   "outputs": [],
   "source": [
    "#aRTIFICIAL iNTELLIGENCE\n",
    "#mACHINE LEARNING FOCUSSES ON BUILDING MODELS AND ALGORITHMS\n",
    "#For all this to happen you need to have dat(both secondary and primary)\n",
    "#Basics of Machine Learning\n",
    "#1.Data preprocessing\n",
    "#2.Feature selection-process\n",
    "#Algorithms used in feature selection\n",
    "#Categorised into three;\n",
    "#1.Filter methods-independent evaluation of each feature with target variables\n",
    "#Techniques used in filter methods;\n",
    "#-Correlation coefficient\n",
    "#-Chi-square test\n",
    "#-ANOVA F-test\n",
    "\n",
    "#2.Wrapper methods-also referred to as greedy algorithms-use combination of features to build a model and evaluate its performance based on a specific metric\n",
    "#3.Embedded methods\n",
    "\n",
    "\n",
    "#Choosing the right feature selection method\n",
    "#1.\n"
   ]
  }
 ],
 "metadata": {
  "language_info": {
   "name": "python"
  }
 },
 "nbformat": 4,
 "nbformat_minor": 5
}
